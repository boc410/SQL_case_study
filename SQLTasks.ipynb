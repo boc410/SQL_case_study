{
 "cells": [
  {
   "cell_type": "markdown",
   "id": "a15f9ed7-ff6b-4893-913f-22d6e90ad592",
   "metadata": {},
   "source": [
    "Export the country club data from PHPMyAdmin, and connect to a local SQLite instance from Jupyter notebook \n",
    "for the following questions.  "
   ]
  },
  {
   "cell_type": "code",
   "execution_count": 1,
   "id": "d069ae0f-b5ba-4812-b739-b240e02cbc7d",
   "metadata": {},
   "outputs": [],
   "source": [
    "import sqlite3\n",
    "import pandas as pd"
   ]
  },
  {
   "cell_type": "code",
   "execution_count": 2,
   "id": "4a9b5bbb-5e8b-4bbc-a1eb-263cdbf2f437",
   "metadata": {},
   "outputs": [],
   "source": [
    "try:\n",
    "    con = sqlite3.connect('sqlite_db_pythonsqlite.db')\n",
    "    con.row_factory = sqlite3.Row\n",
    "    cursor = con.cursor()\n",
    "except Error as e:\n",
    "    print(e)"
   ]
  },
  {
   "cell_type": "code",
   "execution_count": 3,
   "id": "af4daff2-bd00-463e-94c6-68b39b11fb41",
   "metadata": {},
   "outputs": [
    {
     "name": "stdout",
     "output_type": "stream",
     "text": [
      "      bookid  facid  memid            starttime  slots\n",
      "0          1      4      1  2012-07-03 08:00:00      2\n",
      "1          2      6      0  2012-07-03 18:00:00      2\n",
      "2          3      7      1  2012-07-03 19:00:00      2\n",
      "3          4      8      1  2012-07-03 10:00:00      1\n",
      "4          5      8      1  2012-07-03 15:00:00      1\n",
      "...      ...    ...    ...                  ...    ...\n",
      "4037    4038      8     29  2012-09-30 16:30:00      2\n",
      "4038    4039      8     29  2012-09-30 18:00:00      1\n",
      "4039    4040      8     21  2012-09-30 18:30:00      1\n",
      "4040    4041      8     16  2012-09-30 19:00:00      1\n",
      "4041    4042      8     29  2012-09-30 19:30:00      1\n",
      "\n",
      "[4042 rows x 5 columns]\n"
     ]
    }
   ],
   "source": [
    "query = 'SELECT * FROM Bookings'\n",
    "\n",
    "cursor.execute(query)\n",
    "\n",
    "row = cursor.fetchone()\n",
    "names = row.keys()\n",
    "\n",
    "results = pd.DataFrame(cursor.fetchall())\n",
    "results.columns = names\n",
    "print(results)\n"
   ]
  },
  {
   "cell_type": "markdown",
   "id": "826a4559-af07-4a19-b0de-c08f85c72d13",
   "metadata": {},
   "source": [
    "/* Q10: Produce a list of facilities with a total revenue less than 1000.\n",
    "The output of facility name and total revenue, sorted by revenue. Remember\n",
    "that there's a different cost for guests and members! */"
   ]
  },
  {
   "cell_type": "code",
   "execution_count": 4,
   "id": "33691442-7446-488e-914c-72534b717ef3",
   "metadata": {},
   "outputs": [
    {
     "name": "stdout",
     "output_type": "stream",
     "text": [
      "              name        fullname   cost\n",
      "0   Massage Room 1     GUEST GUEST  160.0\n",
      "1   Massage Room 1     GUEST GUEST  160.0\n",
      "2   Massage Room 1     GUEST GUEST  160.0\n",
      "3   Tennis Court 2     GUEST GUEST  150.0\n",
      "4   Tennis Court 1     GUEST GUEST   75.0\n",
      "5   Tennis Court 1     GUEST GUEST   75.0\n",
      "6   Tennis Court 2     GUEST GUEST   75.0\n",
      "7     Squash Court     GUEST GUEST   70.0\n",
      "8   Massage Room 1  Jemima Farrell   39.6\n",
      "9     Squash Court     GUEST GUEST   35.0\n",
      "10    Squash Court     GUEST GUEST   35.0\n"
     ]
    }
   ],
   "source": [
    "query10 = \"SELECT sub.name, \\\n",
    "    (m.firstname || ' ' || m.surname) AS fullname, \\\n",
    "    sub.cost \\\n",
    "FROM Members AS m \\\n",
    "INNER JOIN ( \\\n",
    "    SELECT \\\n",
    "    \tb.memid, \\\n",
    "    \tf.name, \\\n",
    "        CASE WHEN b.memid = 0 THEN f.guestcost * b.slots \\\n",
    "        ELSE f.membercost * b.slots END AS cost \\\n",
    "    FROM Bookings AS b \\\n",
    "    INNER JOIN Facilities AS f \\\n",
    "    ON b.facid = f.facid \\\n",
    "    WHERE b.starttime LIKE '2012-09-14%') AS sub \\\n",
    "ON m.memid = sub.memid \\\n",
    "WHERE sub.cost > 30 \\\n",
    "ORDER BY sub.cost DESC;\"\n",
    "\n",
    "cursor.execute(query10)\n",
    "\n",
    "row = cursor.fetchone()\n",
    "names = row.keys()\n",
    "\n",
    "results10 = pd.DataFrame(cursor.fetchall())\n",
    "results10.columns = names\n",
    "print(results10)"
   ]
  },
  {
   "cell_type": "markdown",
   "id": "2b05808d-56b4-483a-8138-ad3f15c52093",
   "metadata": {},
   "source": [
    "/* Q11: Produce a report of members and who recommended them in alphabetic surname,firstname order */"
   ]
  },
  {
   "cell_type": "code",
   "execution_count": 5,
   "id": "7a3d0b1e-a7d9-4394-bd44-846489651c57",
   "metadata": {
    "scrolled": true
   },
   "outputs": [
    {
     "name": "stdout",
     "output_type": "stream",
     "text": [
      "              surname  firstname         recommender\n",
      "0               Baker       Anne    Stibbons, Ponder\n",
      "1               Baker    Timothy     Farrell, Jemima\n",
      "2              Boothe        Tim         Rownam, Tim\n",
      "3             Butters     Gerald       Smith, Darren\n",
      "4              Coplin       Joan      Baker, Timothy\n",
      "5             Crumpet      Erica        Smith, Tracy\n",
      "6                Dare      Nancy    Joplette, Janice\n",
      "7             Genting    Matthew     Butters, Gerald\n",
      "8                Hunt       John  Purview, Millicent\n",
      "9               Jones      David    Joplette, Janice\n",
      "10              Jones    Douglas        Jones, David\n",
      "11           Joplette     Janice       Smith, Darren\n",
      "12          Mackenzie       Anna       Smith, Darren\n",
      "13               Owen    Charles       Smith, Darren\n",
      "14             Pinker      David     Farrell, Jemima\n",
      "15            Purview  Millicent        Smith, Tracy\n",
      "16             Rumney  Henrietta    Genting, Matthew\n",
      "17             Sarwin  Ramnaresh     Bader, Florence\n",
      "18              Smith       Jack       Smith, Darren\n",
      "19           Stibbons     Ponder       Tracy, Burton\n",
      "20  Worthington-Smyth      Henry        Smith, Tracy\n"
     ]
    }
   ],
   "source": [
    "query11 = \"SELECT m1.surname, m1.firstname, (m2.surname || ', ' || m2.firstname) AS recommender \\\n",
    "    FROM Members AS m1 \\\n",
    "    INNER JOIN Members AS m2 \\\n",
    "    ON m1.recommendedby = m2.memid \\\n",
    "    WHERE m1.recommendedby IS NOT NULL \\\n",
    "    ORDER BY m1.surname, m1. firstname;\"\n",
    "\n",
    "cursor.execute(query11)\n",
    "\n",
    "row = cursor.fetchone()\n",
    "names = row.keys()\n",
    "\n",
    "results11 = pd.DataFrame(cursor.fetchall())\n",
    "results11.columns = names\n",
    "print(results11)"
   ]
  },
  {
   "cell_type": "markdown",
   "id": "58c4e667-8b02-4166-b5cd-9598364c8824",
   "metadata": {},
   "source": [
    "/* Q12: Find the facilities with their usage by member, but not guests */"
   ]
  },
  {
   "cell_type": "code",
   "execution_count": 6,
   "id": "e60fd00f-b805-46ad-a9ff-186a60fedd87",
   "metadata": {},
   "outputs": [
    {
     "name": "stdout",
     "output_type": "stream",
     "text": [
      "               name           member  hours_used\n",
      "0        Pool Table      Rownam, Tim       141.0\n",
      "1    Massage Room 1      Rownam, Tim        88.0\n",
      "2    Tennis Court 1  Butters, Gerald        85.5\n",
      "3    Tennis Court 2      Boothe, Tim        84.0\n",
      "4      Table Tennis      Rownam, Tim        75.0\n",
      "..              ...              ...         ...\n",
      "196    Table Tennis      Baker, Anne         1.0\n",
      "197    Table Tennis  Butters, Gerald         1.0\n",
      "198    Table Tennis       Hunt, John         1.0\n",
      "199      Pool Table  Farrell, Jemima         0.5\n",
      "200      Pool Table    Owen, Charles         0.5\n",
      "\n",
      "[201 rows x 3 columns]\n"
     ]
    }
   ],
   "source": [
    "query12 = \"SELECT f.name, (m.surname || ', ' || m.firstname) AS member, SUM(b.slots/2.0) AS hours_used \\\n",
    "    FROM Facilities AS f \\\n",
    "    INNER JOIN Bookings AS b \\\n",
    "    ON f.facid = b.facid \\\n",
    "    INNER JOIN Members AS m \\\n",
    "    ON b.memid = m.memid \\\n",
    "    WHERE m.memid != 0 \\\n",
    "    GROUP BY f.name, member \\\n",
    "    ORDER BY hours_used DESC;\"\n",
    "\n",
    "cursor.execute(query12)\n",
    "\n",
    "row = cursor.fetchone()\n",
    "names = row.keys()\n",
    "\n",
    "results12 = pd.DataFrame(cursor.fetchall())\n",
    "results12.columns = names\n",
    "print(results12)"
   ]
  },
  {
   "cell_type": "markdown",
   "id": "446079f4-0af7-41dd-805f-f1974d6ea51e",
   "metadata": {},
   "source": [
    "/* Q13: Find the facilities usage by month, but not guests */"
   ]
  },
  {
   "cell_type": "code",
   "execution_count": 7,
   "id": "37ff42f3-2493-4ae8-8a6e-41ac38133dd1",
   "metadata": {},
   "outputs": [
    {
     "name": "stdout",
     "output_type": "stream",
     "text": [
      "               name month  hours_used\n",
      "0        Pool Table    09       221.5\n",
      "1    Tennis Court 1    09       208.5\n",
      "2   Badminton Court    08       207.0\n",
      "3    Tennis Court 2    09       207.0\n",
      "4     Snooker Table    09       202.0\n",
      "5    Massage Room 1    09       201.0\n",
      "6      Table Tennis    09       200.0\n",
      "7    Tennis Court 2    08       172.5\n",
      "8    Tennis Court 1    08       169.5\n",
      "9    Massage Room 1    08       158.0\n",
      "10    Snooker Table    08       158.0\n",
      "11       Pool Table    08       151.5\n",
      "12     Table Tennis    08       148.0\n",
      "13   Tennis Court 1    07       100.5\n",
      "14     Squash Court    08        92.0\n",
      "15     Squash Court    09        92.0\n",
      "16   Massage Room 1    07        83.0\n",
      "17  Badminton Court    07        82.5\n",
      "18    Snooker Table    07        70.0\n",
      "19   Tennis Court 2    07        61.5\n",
      "20       Pool Table    07        55.0\n",
      "21     Table Tennis    07        49.0\n",
      "22     Squash Court    07        25.0\n",
      "23   Massage Room 2    09        14.0\n",
      "24   Massage Room 2    08         9.0\n",
      "25   Massage Room 2    07         4.0\n"
     ]
    }
   ],
   "source": [
    "query12 = \"SELECT f.name, SUBSTRING(b.starttime,6,2) AS month, SUM(b.slots/2.0) AS hours_used \\\n",
    "    FROM Facilities AS f \\\n",
    "    INNER JOIN Bookings AS b \\\n",
    "    ON f.facid = b.facid \\\n",
    "    INNER JOIN Members AS m \\\n",
    "    ON b.memid = m.memid \\\n",
    "    WHERE m.memid != 0 \\\n",
    "    GROUP BY f.name, month \\\n",
    "    ORDER BY hours_used DESC;\"\n",
    "\n",
    "cursor.execute(query12)\n",
    "\n",
    "row = cursor.fetchone()\n",
    "names = row.keys()\n",
    "\n",
    "results12 = pd.DataFrame(cursor.fetchall())\n",
    "results12.columns = names\n",
    "print(results12)"
   ]
  },
  {
   "cell_type": "code",
   "execution_count": 8,
   "id": "4c329c61-52a8-424c-8f00-21151dd6c4a3",
   "metadata": {},
   "outputs": [],
   "source": [
    "cursor.close()"
   ]
  },
  {
   "cell_type": "code",
   "execution_count": 9,
   "id": "7da747bf-ff4d-4c77-b955-ba09658e814b",
   "metadata": {},
   "outputs": [],
   "source": [
    "con.close()"
   ]
  }
 ],
 "metadata": {
  "kernelspec": {
   "display_name": "Python 3 (ipykernel)",
   "language": "python",
   "name": "python3"
  },
  "language_info": {
   "codemirror_mode": {
    "name": "ipython",
    "version": 3
   },
   "file_extension": ".py",
   "mimetype": "text/x-python",
   "name": "python",
   "nbconvert_exporter": "python",
   "pygments_lexer": "ipython3",
   "version": "3.11.7"
  }
 },
 "nbformat": 4,
 "nbformat_minor": 5
}
